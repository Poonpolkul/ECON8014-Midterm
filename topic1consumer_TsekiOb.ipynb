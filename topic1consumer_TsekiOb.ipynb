{
 "cells": [
  {
   "cell_type": "markdown",
   "metadata": {},
   "source": [
    "# Midterm assignment, topic 1\n",
    "# Consumer choice and consumer demand\n",
    "\n",
    "---\n",
    "\n",
    "### Background and references\n",
    "\n",
    "In this assignment you consider a classic consumer choice setup given by the utility function and budget constraint, and numerically derive the demand function.\n",
    "\n",
    "* Hal Varian \"Microeconomic analysis\", 3 ed. 1992, Chapter 7, 8  \n",
    "https://books.google.com.au/books/about/Microeconomic_Analysis.html?id=m20iQAAACAAJ&redir_esc=y\n",
    "* https://en.wikipedia.org/wiki/Consumer_choice\n",
    "* https://en.wikipedia.org/wiki/Inferior_good\n",
    "\n",
    "\n",
    "---\n",
    "\n",
    "The sequence of tasks below should be performed in order in this notebook.  Feel free to add code and markdown cells, add picture, etc, to facilitate your presentation of this work in the class. The tasks below are often up to some degree of interpretation (so, don't tell you what to do exactly), you are free to interpret them in the way you see fit best. But remember to explain why you make such and such choices when you present your work.\n",
    "\n",
    "The grade for the midterm assignment is based on both the code correctness and code style. The former relates to whether the code adequately represents the economic model under consideration, and the latter has to do with how well the code is modularized and organized, whether appropriate syntax is used, and whether the code is well documented. [PEP 8](https://www.python.org/dev/peps/pep-0008/) standard is a good reference for coding style, but will not inhibit the grade.\n",
    "\n",
    "The completed notebook should be used in the class to present your model, demonstrate your code and explain your design decisions.\n",
    "\n",
    "---\n",
    "\n",
    "### 1. Make a short introduction to the consumer choice setup\n",
    "- Use references above\n",
    "\n",
    "### 2. Design and implement a Python class to represent the model\n",
    "- Use constant elasticity of substitution (CES) utility function to represent preferences over two goods\n",
    "\n",
    "$$\n",
    "u(x,y) = \\Big( a_1 x^{\\frac{s-1}{s}} + a_2 y^{\\frac{s-1}{s}} \\Big)^{\\frac{s}{s-1}}\n",
    "$$\n",
    "\n",
    "- Allow prices of the goods be $p_1$ and $p_2$, and budget constraint (assuming no money wasted) \n",
    "$B = x p_1 + y p_2$\n",
    "\n",
    "- Design the attributes of the class and implement *init* and *repr* methods. Implement other methods according to your design.\n",
    "\n",
    "- Make a *plot_preferences* method for the class to illustrate the preferences represented the objects of the class, and illustrate how the parameters of the utility function affect the plot. Give economic interpretation for the parameters. (To make possible the figure with one of the indifference curves touching the budget constraint, make sure that this procedure can plot the indifference curves for a particular value of utility, or array of such values.)\n",
    "\n",
    "- Make a *plot_budget* method for the class to illustrate the budget of the consumer. (Again, to make possible later figures, make sure that two plotting methods can create plots on the same axes).\n",
    "\n",
    "- Finally, write a *solve* method which would numerically solve the consumer choice problem and return the optimal bundle of goods. Use an unconstrained solver and provide it with an analytical gradient.  The constrained consumer choice problem can be reformulated as unconstrained with the assumption of full budget utilization by simple substitution.\n",
    "\n",
    "### 3. By drawing several diagrams that illustrate optimal consumer choice using your class, investigate and describe how parameters of the preferences affect the optimal choice.\n",
    "- Try finding and considering a few characteristic extremal cases that would give an idea of the boundaries for the set of solutions.\n",
    "- Give economic intuition for the observed differences.\n",
    "\n",
    "### 4. Code up a function which takes a model object as input argument, and creates a series of pictures to illustrate how optimal consumer choice changes with changing prices to give rise to demand curve.\n",
    "- Implement a way to change the number of the produced picture (and detail of the illustration) with some input argument, and let the function output the produced series of optimal choices for different prices.\n",
    "- Produce an example of running the developed function, and classify the two goods into normal and inferior.\n",
    "- Find values for the preference parameters that correspond to inferior good, and make the corresponding illustration.\n",
    "\n",
    "### 5. Repeat the same exercise for changing budget to illustrate the income effect in consumer choice.\n",
    "- Decide and argue to either modify the already written function or creating a new one.\n",
    "- Produce an illustration of the Giffen good.\n",
    "\n",
    "### 6. Run a Monte Carlo exercises to approximate the subsets of parameter space that correspond to the inferior and Giffen goods.\n",
    "- First, impose the restriction to parameters $a_2 = 1-a_1$, which makes parameter $a_2$ disappear. Then, with parameters given by $(a_1,s)$, we can plot parameters on a plane.\n",
    "- Choose a range for parameters, and proceed with the simulation using uniform distribution.\n",
    "- Present the results graphically with points on the $(a_1,s)$ plane colored differently for the four combination of good classes (normal-inferior and nonormal-Giffen).\n",
    "- Discuss the observed patterns"
   ]
  },
  {
   "cell_type": "markdown",
   "metadata": {},
   "source": [
    "# Question 2"
   ]
  },
  {
   "cell_type": "code",
   "execution_count": 16,
   "metadata": {},
   "outputs": [],
   "source": [
    "# Question 2: Defining the class to represent the model\n",
    "import math\n",
    "import numpy as np\n",
    "import scipy.optimize as optimize\n",
    "import matplotlib.pyplot as plt\n",
    "from ipywidgets import interact\n",
    "%matplotlib inline\n",
    "\n",
    "class consumer_choice():\n",
    "    \n",
    "    '''Class of demand for goods with CES utility function'''\n",
    "    \n",
    "    def __init__(self, q1 =1.0, label = 'Consumer choice',\n",
    "                                        s = 1.5,  # elasticity of substitution                                        \n",
    "                                        a1 = 0.3,  # share parameter for good 1\n",
    "                                        a2 = 0.7,  # share parameter for good 2\n",
    "                                        I = 100,     # Income or budget\n",
    "                                        U_bar = 100,  # Utility\n",
    "                                        p1 = 2,      # Price for good 1\n",
    "                                        p2 = 3) :     # Price for good 2\n",
    "        self.q1, self.s, self.a1, self.a2, self.I, self.U_bar, self.p1, self.p2 = q1, s, a1, a2, I, U_bar, p1, p2\n",
    "    def __repr__(self): \n",
    "        '''Representation of the model object'''\n",
    "        return 'Consumer choice represented by CES utility function with share parameters  %r, %1.2f' % (self.a1,self.a2)\n",
    "            \n",
    "\n",
    "    def utility(self, q1):\n",
    "        self.q1 = q1\n",
    "        b = (self.s-1)/self.s\n",
    "        U = ((self.a1*self.q1**b) + self.a2*((self.I-self.q1*self.p1)/self.p2)**b)**(1/b)\n",
    "        return U\n",
    "    \n",
    "    def plot_budget(self, I, p1, p2):\n",
    "        '''Method to illustrate budget constraint of the consumer'''\n",
    "        self.I, self.p1, self.p2 = I, p1, p2\n",
    "        q1 = np.linspace(0, I/p1, 10)\n",
    "        q2 = I/p2- (p1/p2)*q1\n",
    "        fig, ax = plt.subplots()  # Create axes and figure window\n",
    "        plt.plot(q1, q2, 'b-', q1, q1, '-.')\n",
    "        plt.ylabel('q2')\n",
    "        plt.xlabel('q1')\n",
    "        plt.title('Budget line')\n",
    "        return plt.show()\n",
    "      \n",
    "    def plot_preferences(self, U_bar, s, a1, a2):\n",
    "        self.U_bar, self.s, self.a1, self.a2 = U_bar, s, a1, a2\n",
    "        '''Method to illustrate indifference curve of the consumer'''\n",
    "        q1 = np.linspace(0, self.I/self.p1, 100)\n",
    "        q2 = ((U_bar**((s-1)/s) - a1*q1**((s-1)/s))/a2)**(s/(s-1))\n",
    "        fig, ax = plt.subplots()  # Create axes and figure window\n",
    "        plt.plot(q1, q2, 'r-', q1, q1,'-.')\n",
    "        plt.ylabel('q2')\n",
    "        plt.xlabel('q1')\n",
    "        plt.title('Indifference curve ')\n",
    "        return plt.show()\n",
    "    \n",
    "    def FOC(self,q1=1):\n",
    "        '''Method to solve FOC'''\n",
    "        self.q1 = q1\n",
    "        b = (self.s-1)/self.s # just short hand for (s-1)/s\n",
    "        A = ((self.a1*self.q1**b) + self.a2*((self.I-self.q1*self.p1)/self.p2)**b)\n",
    "        FOC = A**((1/b)-1)*(self.a1*self.q1**(b-1)-self.a2*((self.I-self.q1*self.p1)/self.p2)**(b-1)*(self.p1/self.p2))\n",
    "        return FOC\n",
    "    \n",
    "    def plot_solution(self, I, p1, p2, s, a1, a2):\n",
    "        '''Method to solve for the root of FOC and plot the solution'''\n",
    "        self.I, self.p1, self.p2, self.s, self.a1, self.a2 = I, p1, p2, s, a1, a2\n",
    "        q1_opt = optimize.root(self.FOC, 1) # 1 is the initial value, whether it converges to the solution is sensitive to the initial value\n",
    "        q2_opt = (I-q1_opt.x*p1)/p2\n",
    "        U_opt = self.utility(q1 = q1_opt.x)\n",
    "        NGRID = 100\n",
    "        q1 = np.linspace(0, I/p2, NGRID)\n",
    "        IC = ((U_opt**((s-1)/s) - a1*q1**((s-1)/s))/a2)**(s/(s-1))\n",
    "        B = I/p2- (p1/p2)*q1\n",
    "        plt.plot(q1, IC, q1, B)\n",
    "        plt.plot(q1_opt.x, q2_opt, 'ob')\n",
    "        plt.ylabel('q2')\n",
    "        plt.xlabel('q1')\n",
    "        plt.title('Consumer utility maximization problem solution')\n",
    "        return plt.show()\n",
    " \n"
   ]
  },
  {
   "cell_type": "code",
   "execution_count": 17,
   "metadata": {},
   "outputs": [
    {
     "data": {
      "image/png": "[encoded data removed]",
      "text/plain": [
       "<matplotlib.figure.Figure at 0x110201e80>"
      ]
     },
     "metadata": {},
     "output_type": "display_data"
    },
    {
     "data": {
      "application/vnd.jupyter.widget-view+json": {
       "model_id": "e37394e4076b46428fbab7a0ced24092",
       "version_major": 2,
       "version_minor": 0
      },
      "text/html": [
       "<p>Failed to display Jupyter Widget of type <code>interactive</code>.</p>\n",
       "<p>\n",
       "  If you're reading this message in the Jupyter Notebook or JupyterLab Notebook, it may mean\n",
       "  that the widgets JavaScript is still loading. If this message persists, it\n",
       "  likely means that the widgets JavaScript library is either not installed or\n",
       "  not enabled. See the <a href=\"https://ipywidgets.readthedocs.io/en/stable/user_install.html\">Jupyter\n",
       "  Widgets Documentation</a> for setup instructions.\n",
       "</p>\n",
       "<p>\n",
       "  If you're reading this message in another frontend (for example, a static\n",
       "  rendering on GitHub or <a href=\"https://nbviewer.jupyter.org/\">NBViewer</a>),\n",
       "  it may mean that your frontend doesn't currently support widgets.\n",
       "</p>\n"
      ],
      "text/plain": [
       "interactive(children=(FloatSlider(value=500.005, description='U_bar', max=1000.0, min=0.01), FloatSlider(value=2.2, description='s', max=4.2, min=0.2), FloatSlider(value=5.05, description='a1', max=10.0, min=0.1), FloatSlider(value=5.05, description='a2', max=10.0, min=0.1), Output()), _dom_classes=('widget-interact',))"
      ]
     },
     "metadata": {},
     "output_type": "display_data"
    }
   ],
   "source": [
    "m=consumer_choice()\n",
    "m.plot_preferences(U_bar=100, s=1.5, a1=0.5, a2=0.5)\n",
    "interact(m.plot_preferences, \n",
    "              U_bar=(0.01, 1000),\n",
    "              a1=(0.1, 10),\n",
    "              a2=(0.1, 10),\n",
    "              #self.p1=(1,100), \n",
    "              #self.p2=(1.0,1.5), \n",
    "              s=(0.2,4.2), \n",
    "              #I=(0.1, 1000),\n",
    "             )\n",
    "plt.show()"
   ]
  },
  {
   "cell_type": "code",
   "execution_count": 18,
   "metadata": {},
   "outputs": [
    {
     "data": {
      "image/png": "[encoded data removed]",
      "text/plain": [
       "<matplotlib.figure.Figure at 0x110201be0>"
      ]
     },
     "metadata": {},
     "output_type": "display_data"
    },
    {
     "data": {
      "application/vnd.jupyter.widget-view+json": {
       "model_id": "e818c4841a91401490bdedabbff868da",
       "version_major": 2,
       "version_minor": 0
      },
      "text/html": [
       "<p>Failed to display Jupyter Widget of type <code>interactive</code>.</p>\n",
       "<p>\n",
       "  If you're reading this message in the Jupyter Notebook or JupyterLab Notebook, it may mean\n",
       "  that the widgets JavaScript is still loading. If this message persists, it\n",
       "  likely means that the widgets JavaScript library is either not installed or\n",
       "  not enabled. See the <a href=\"https://ipywidgets.readthedocs.io/en/stable/user_install.html\">Jupyter\n",
       "  Widgets Documentation</a> for setup instructions.\n",
       "</p>\n",
       "<p>\n",
       "  If you're reading this message in another frontend (for example, a static\n",
       "  rendering on GitHub or <a href=\"https://nbviewer.jupyter.org/\">NBViewer</a>),\n",
       "  it may mean that your frontend doesn't currently support widgets.\n",
       "</p>\n"
      ],
      "text/plain": [
       "interactive(children=(FloatSlider(value=500.05, description='I', max=1000.0, min=0.1), IntSlider(value=50, description='p1', min=1), FloatSlider(value=50.5, description='p2', min=1.0), Output()), _dom_classes=('widget-interact',))"
      ]
     },
     "metadata": {},
     "output_type": "display_data"
    }
   ],
   "source": [
    "m.plot_budget(I=100, p1=2, p2=3)\n",
    "interact(m.plot_budget, \n",
    "              p1=(1,100), \n",
    "              p2=(1.0,100), \n",
    "              s=(0.2,4.2), \n",
    "              I=(0.1, 1000),\n",
    "             )\n",
    "plt.show()"
   ]
  },
  {
   "cell_type": "code",
   "execution_count": 19,
   "metadata": {
    "scrolled": true
   },
   "outputs": [
    {
     "data": {
      "image/png": "[encoded data removed]",
      "text/plain": [
       "<matplotlib.figure.Figure at 0x1106cc2b0>"
      ]
     },
     "metadata": {},
     "output_type": "display_data"
    },
    {
     "data": {
      "application/vnd.jupyter.widget-view+json": {
       "model_id": "d311775361e2462980e91f56e1aa1f39",
       "version_major": 2,
       "version_minor": 0
      },
      "text/html": [
       "<p>Failed to display Jupyter Widget of type <code>interactive</code>.</p>\n",
       "<p>\n",
       "  If you're reading this message in the Jupyter Notebook or JupyterLab Notebook, it may mean\n",
       "  that the widgets JavaScript is still loading. If this message persists, it\n",
       "  likely means that the widgets JavaScript library is either not installed or\n",
       "  not enabled. See the <a href=\"https://ipywidgets.readthedocs.io/en/stable/user_install.html\">Jupyter\n",
       "  Widgets Documentation</a> for setup instructions.\n",
       "</p>\n",
       "<p>\n",
       "  If you're reading this message in another frontend (for example, a static\n",
       "  rendering on GitHub or <a href=\"https://nbviewer.jupyter.org/\">NBViewer</a>),\n",
       "  it may mean that your frontend doesn't currently support widgets.\n",
       "</p>\n"
      ],
      "text/plain": [
       "interactive(children=(FloatSlider(value=500.05, description='I', max=1000.0, min=0.1), IntSlider(value=50, description='p1', min=1), FloatSlider(value=50.5, description='p2', min=1.0), FloatSlider(value=2.2, description='s', max=4.2, min=0.2), FloatSlider(value=5.05, description='a1', max=10.0, min=0.1), FloatSlider(value=5.05, description='a2', max=10.0, min=0.1), Output()), _dom_classes=('widget-interact',))"
      ]
     },
     "metadata": {},
     "output_type": "display_data"
    }
   ],
   "source": [
    "m.plot_solution(s = 1.5, a1 = 0.3, a2 = 0.7, I = 100, p1 = 2, p2 = 3)\n",
    "interact(m.plot_solution, \n",
    "              p1=(1,100), \n",
    "              p2=(1.0,100), \n",
    "              s=(0.2,4.2), \n",
    "              I=(0.1, 1000),\n",
    "              a1=(0.1, 10),\n",
    "              a2=(0.1, 10),\n",
    "             )\n",
    "plt.show()"
   ]
  },
  {
   "cell_type": "markdown",
   "metadata": {},
   "source": [
    "# Question 3"
   ]
  },
  {
   "cell_type": "code",
   "execution_count": null,
   "metadata": {},
   "outputs": [],
   "source": []
  },
  {
   "cell_type": "markdown",
   "metadata": {},
   "source": [
    "# Question 4"
   ]
  },
  {
   "cell_type": "markdown",
   "metadata": {},
   "source": [
    "- Implement a way to change the number of the produced picture (and detail of the illustration) with some input argument, and let the function output the produced series of optimal choices for different prices.\n",
    "- Produce an example of running the developed function, and classify the two goods into normal and inferior.\n",
    "- Find values for the preference parameters that correspond to inferior good, and make the corresponding illustration."
   ]
  },
  {
   "cell_type": "code",
   "execution_count": 20,
   "metadata": {
    "scrolled": false
   },
   "outputs": [
    {
     "data": {
      "image/png": "[encoded data removed]",
      "text/plain": [
       "<matplotlib.figure.Figure at 0x110227128>"
      ]
     },
     "metadata": {},
     "output_type": "display_data"
    },
    {
     "data": {
      "application/vnd.jupyter.widget-view+json": {
       "model_id": "e53cad3a80e041fcb331f5e416b35f43",
       "version_major": 2,
       "version_minor": 0
      },
      "text/html": [
       "<p>Failed to display Jupyter Widget of type <code>interactive</code>.</p>\n",
       "<p>\n",
       "  If you're reading this message in the Jupyter Notebook or JupyterLab Notebook, it may mean\n",
       "  that the widgets JavaScript is still loading. If this message persists, it\n",
       "  likely means that the widgets JavaScript library is either not installed or\n",
       "  not enabled. See the <a href=\"https://ipywidgets.readthedocs.io/en/stable/user_install.html\">Jupyter\n",
       "  Widgets Documentation</a> for setup instructions.\n",
       "</p>\n",
       "<p>\n",
       "  If you're reading this message in another frontend (for example, a static\n",
       "  rendering on GitHub or <a href=\"https://nbviewer.jupyter.org/\">NBViewer</a>),\n",
       "  it may mean that your frontend doesn't currently support widgets.\n",
       "</p>\n"
      ],
      "text/plain": [
       "interactive(children=(IntSlider(value=100, description='I', max=300, min=-100), FloatSlider(value=50.0, description='p2', min=1.0), FloatSlider(value=0.5, description='s', max=4.2, min=0.2), FloatSlider(value=0.5, description='a1', max=10.0, min=0.1), FloatSlider(value=0.5, description='a2', max=10.0, min=0.1), Output()), _dom_classes=('widget-interact',))"
      ]
     },
     "metadata": {},
     "output_type": "display_data"
    }
   ],
   "source": [
    "\n",
    "'''Write a function for demand curve of good x''' \n",
    "def demand_curve_x(I = 100, p2 = 50, s = 0.5, a1 = 0.5, a2 = 0.5):\n",
    "    m = consumer_choice()\n",
    "    m.I, m.p2, m.s, m.a1, m.a2  = I, p2, s, a1, a2\n",
    "    p1 = np.arange(1,m.I,1)\n",
    "    q1_opt = np.zeros(m.I-1)\n",
    "#     q2_opt = np.zeros(100)\n",
    "    j = 0\n",
    "    for i in p1:\n",
    "        m.p1 = i\n",
    "        root = optimize.root(m.FOC, 1)\n",
    "        q1_opt[j] = root.x\n",
    "#         print(i)\n",
    "#         print(q1_opt[j])\n",
    "        j = j+1\n",
    "        \n",
    "    plt.plot(q1_opt[:], p1)\n",
    "    plt.title(\"Demand curve for x\")\n",
    "    plt.xlabel('q1_opt')\n",
    "    plt.ylabel('p1')\n",
    "    plt.show\n",
    "\n",
    "demand_curve_x()\n",
    "interact(demand_curve_x,  \n",
    "              p2=(1.0,100), \n",
    "              s=(0.2,4.2), \n",
    "              a1=(0.1, 10),\n",
    "              a2=(0.1, 10),\n",
    "             )\n",
    "plt.show()\n"
   ]
  },
  {
   "cell_type": "code",
   "execution_count": 27,
   "metadata": {},
   "outputs": [
    {
     "name": "stderr",
     "output_type": "stream",
     "text": [
      "/anaconda3/lib/python3.6/site-packages/ipykernel_launcher.py:61: RuntimeWarning: invalid value encountered in power\n",
      "/anaconda3/lib/python3.6/site-packages/ipykernel_launcher.py:62: RuntimeWarning: invalid value encountered in power\n"
     ]
    },
    {
     "data": {
      "image/png": "[encoded data removed]",
      "text/plain": [
       "<matplotlib.figure.Figure at 0x1100b2710>"
      ]
     },
     "metadata": {},
     "output_type": "display_data"
    },
    {
     "data": {
      "application/vnd.jupyter.widget-view+json": {
       "model_id": "8a1188a37c9243aeb963ba4f99fab580",
       "version_major": 2,
       "version_minor": 0
      },
      "text/html": [
       "<p>Failed to display Jupyter Widget of type <code>interactive</code>.</p>\n",
       "<p>\n",
       "  If you're reading this message in the Jupyter Notebook or JupyterLab Notebook, it may mean\n",
       "  that the widgets JavaScript is still loading. If this message persists, it\n",
       "  likely means that the widgets JavaScript library is either not installed or\n",
       "  not enabled. See the <a href=\"https://ipywidgets.readthedocs.io/en/stable/user_install.html\">Jupyter\n",
       "  Widgets Documentation</a> for setup instructions.\n",
       "</p>\n",
       "<p>\n",
       "  If you're reading this message in another frontend (for example, a static\n",
       "  rendering on GitHub or <a href=\"https://nbviewer.jupyter.org/\">NBViewer</a>),\n",
       "  it may mean that your frontend doesn't currently support widgets.\n",
       "</p>\n"
      ],
      "text/plain": [
       "interactive(children=(IntSlider(value=100, description='I', max=300, min=-100), IntSlider(value=50, description='p1', max=150, min=-50), FloatSlider(value=3.0, description='s', max=4.2, min=0.2), FloatSlider(value=0.5, description='a1', max=10.0, min=0.1), FloatSlider(value=1.0, description='a2', max=10.0, min=0.1), Output()), _dom_classes=('widget-interact',))"
      ]
     },
     "metadata": {},
     "output_type": "display_data"
    }
   ],
   "source": [
    "'''Write a function for demand curve of good y''' \n",
    "def demand_curve_y(I = 100, p1 = 50, s = 3, a1 = 0.5, a2 = 1):\n",
    "    m = consumer_choice()\n",
    "    m.I, m.p1, m.s, m.a1, m.a2  = I, p1, s, a1, a2\n",
    "    p2 = np.arange(1,m.I,1)\n",
    "    q1_opt = np.zeros(m.I-1)\n",
    "    q2_opt = np.zeros(m.I-1)\n",
    "    j = 0\n",
    "    for i in p2:\n",
    "        m.p2 = i\n",
    "        root = optimize.root(m.FOC, 1)\n",
    "        root_temp = root.x\n",
    "        q2_opt[j] = (I-root_temp*m.p1)/m.p2\n",
    "        j = j+1\n",
    "        \n",
    "    plt.plot(q2_opt[:], p2)\n",
    "    plt.title(\"Demand curve for y\")\n",
    "    plt.xlabel('q2_opt')\n",
    "    plt.ylabel('p2')\n",
    "    plt.show\n",
    "\n",
    "demand_curve_y()\n",
    "interact(demand_curve_y,  \n",
    "              p2=(1.0,100), \n",
    "              s=(0.2,4.2), \n",
    "              a1=(0.1, 10),\n",
    "              a2=(0.1, 10),\n",
    "             )\n",
    "plt.show()"
   ]
  },
  {
   "cell_type": "code",
   "execution_count": 15,
   "metadata": {},
   "outputs": [
    {
     "ename": "NameError",
     "evalue": "name 'I' is not defined",
     "output_type": "error",
     "traceback": [
      "\u001b[0;31m---------------------------------------------------------------------------\u001b[0m",
      "\u001b[0;31mNameError\u001b[0m                                 Traceback (most recent call last)",
      "\u001b[0;32m<ipython-input-15-da17534fef40>\u001b[0m in \u001b[0;36m<module>\u001b[0;34m()\u001b[0m\n\u001b[1;32m      8\u001b[0m     \u001b[0mroot\u001b[0m \u001b[0;34m=\u001b[0m \u001b[0moptimize\u001b[0m\u001b[0;34m.\u001b[0m\u001b[0mroot\u001b[0m\u001b[0;34m(\u001b[0m\u001b[0mm\u001b[0m\u001b[0;34m.\u001b[0m\u001b[0mFOC\u001b[0m\u001b[0;34m,\u001b[0m \u001b[0;36m1\u001b[0m\u001b[0;34m)\u001b[0m\u001b[0;34m\u001b[0m\u001b[0m\n\u001b[1;32m      9\u001b[0m     \u001b[0mtemp\u001b[0m \u001b[0;34m=\u001b[0m \u001b[0mroot\u001b[0m\u001b[0;34m.\u001b[0m\u001b[0mx\u001b[0m\u001b[0;34m\u001b[0m\u001b[0m\n\u001b[0;32m---> 10\u001b[0;31m     \u001b[0mq2_opt\u001b[0m\u001b[0;34m[\u001b[0m\u001b[0mj\u001b[0m\u001b[0;34m]\u001b[0m \u001b[0;34m=\u001b[0m \u001b[0;34m(\u001b[0m\u001b[0mI\u001b[0m\u001b[0;34m-\u001b[0m\u001b[0mtemp\u001b[0m\u001b[0;34m*\u001b[0m\u001b[0mp1\u001b[0m\u001b[0;34m)\u001b[0m\u001b[0;34m/\u001b[0m\u001b[0mp2\u001b[0m\u001b[0;34m\u001b[0m\u001b[0m\n\u001b[0m\u001b[1;32m     11\u001b[0m     \u001b[0mj\u001b[0m \u001b[0;34m=\u001b[0m \u001b[0mj\u001b[0m\u001b[0;34m+\u001b[0m\u001b[0;36m1\u001b[0m\u001b[0;34m\u001b[0m\u001b[0m\n",
      "\u001b[0;31mNameError\u001b[0m: name 'I' is not defined"
     ]
    }
   ],
   "source": [
    "p2 = np.arange(1,m.I,1)\n",
    "#q1_opt = np.zeros(m.I-1)\n",
    "m = consumer_choice()\n",
    "q2_opt = np.zeros(m.I-1)\n",
    "j = 0\n",
    "for i in p2:\n",
    "    m.p2 = i\n",
    "    root = optimize.root(m.FOC, 1)\n",
    "    temp = root.x\n",
    "    q2_opt[j] = (I-temp*p1)/p2\n",
    "    j = j+1"
   ]
  },
  {
   "cell_type": "code",
   "execution_count": null,
   "metadata": {},
   "outputs": [],
   "source": [
    "'''OK'''\n",
    "p1 = np.arange(11,100,10)\n",
    "# p1 = np.linspace(0,100,10)\n",
    "q1_opt = np.zeros(9)\n",
    "j = 0\n",
    "for i in p1:\n",
    "    print(i)\n",
    "    m.p1 = i\n",
    "    root = optimize.root(m.FOC, 1)\n",
    "    q1_opt[j] = root.x\n",
    "    print(q1_opt[j])\n",
    "    j = j+1\n",
    "plt.plot(q1_opt[:], p1)\n",
    "# plt.show\n",
    "print(q1_opt[:])\n",
    "print(p1)\n",
    "#q1_opt\n",
    "#     b = (s-1)/s\n",
    "#     axis_max = np.ceil(max(((U[0]**b)/a2)**(1/b), ((U[0]**b)/a1)**(1/b)))\n",
    "#     x = np.linspace(0.01, axis_max, 1e3)\n",
    "#     for i in U:\n",
    "#         plt.subplot()\n",
    "#         plt.plot(x, (((i**b)-a1*x**b)/a2)**(1/b))\n"
   ]
  },
  {
   "cell_type": "code",
   "execution_count": null,
   "metadata": {},
   "outputs": [],
   "source": [
    "consumer_choice.p1=3\n",
    "consumer_choice.p1\n",
    "a = np.zeros(10)\n",
    "a\n",
    "a[2] = 4\n",
    "a\n",
    "p1 = np.linspace(0,10,100)\n",
    "optimize.root(m.FOC, 1).x"
   ]
  },
  {
   "cell_type": "code",
   "execution_count": null,
   "metadata": {},
   "outputs": [],
   "source": [
    "x = np.array([3, 6, 9, 12])\n",
    "x\n",
    "y =  [3, 6, 9, 12]\n",
    "print(x)\n",
    "print(y)\n",
    "z = np.linspace(1,10,10)\n",
    "print(z)\n",
    "a = np.zeros(10)\n",
    "print(a)\n",
    "b=z/2\n",
    "a"
   ]
  },
  {
   "cell_type": "markdown",
   "metadata": {},
   "source": [
    "# Question 5"
   ]
  },
  {
   "cell_type": "code",
   "execution_count": null,
   "metadata": {},
   "outputs": [],
   "source": []
  },
  {
   "cell_type": "markdown",
   "metadata": {},
   "source": [
    "# Question 6"
   ]
  },
  {
   "cell_type": "code",
   "execution_count": null,
   "metadata": {},
   "outputs": [],
   "source": []
  }
 ],
 "metadata": {
  "kernelspec": {
   "display_name": "Python 3",
   "language": "python",
   "name": "python3"
  },
  "language_info": {
   "codemirror_mode": {
    "name": "ipython",
    "version": 3
   },
   "file_extension": ".py",
   "mimetype": "text/x-python",
   "name": "python",
   "nbconvert_exporter": "python",
   "pygments_lexer": "ipython3",
   "version": "3.6.4"
  }
 },
 "nbformat": 4,
 "nbformat_minor": 2
}
