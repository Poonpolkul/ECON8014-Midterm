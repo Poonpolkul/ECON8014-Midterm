{
 "cells": [
  {
   "cell_type": "markdown",
   "metadata": {},
   "source": [
    "# Midterm assignment, topic 1\n",
    "# Consumer choice and consumer demand\n",
    "\n",
    "---\n",
    "\n",
    "### Background and references\n",
    "\n",
    "In this assignment you consider a classic consumer choice setup given by the utility function and budget constraint, and numerically derive the demand function.\n",
    "\n",
    "* Hal Varian \"Microeconomic analysis\", 3 ed. 1992, Chapter 7, 8  \n",
    "https://books.google.com.au/books/about/Microeconomic_Analysis.html?id=m20iQAAACAAJ&redir_esc=y\n",
    "* https://en.wikipedia.org/wiki/Consumer_choice\n",
    "* https://en.wikipedia.org/wiki/Inferior_good\n",
    "\n",
    "\n",
    "---\n",
    "\n",
    "The sequence of tasks below should be performed in order in this notebook.  Feel free to add code and markdown cells, add picture, etc, to facilitate your presentation of this work in the class. The tasks below are often up to some degree of interpretation (so, don't tell you what to do exactly), you are free to interpret them in the way you see fit best. But remember to explain why you make such and such choices when you present your work.\n",
    "\n",
    "The grade for the midterm assignment is based on both the code correctness and code style. The former relates to whether the code adequately represents the economic model under consideration, and the latter has to do with how well the code is modularized and organized, whether appropriate syntax is used, and whether the code is well documented. [PEP 8](https://www.python.org/dev/peps/pep-0008/) standard is a good reference for coding style, but will not inhibit the grade.\n",
    "\n",
    "The completed notebook should be used in the class to present your model, demonstrate your code and explain your design decisions.\n",
    "\n",
    "---\n",
    "\n",
    "### 1. Make a short introduction to the consumer choice setup\n",
    "- Use references above\n",
    "\n",
    "### 2. Design and implement a Python class to represent the model\n",
    "- Use constant elasticity of substitution (CES) utility function to represent preferences over two goods\n",
    "\n",
    "$$\n",
    "u(x,y) = \\Big( a_1 x^{\\frac{s-1}{s}} + a_2 y^{\\frac{s-1}{s}} \\Big)^{\\frac{s}{s-1}}\n",
    "$$\n",
    "\n",
    "- Allow prices of the goods be $p_1$ and $p_2$, and budget constraint (assuming no money wasted) \n",
    "$B = x p_1 + y p_2$\n",
    "\n",
    "- Design the attributes of the class and implement *init* and *repr* methods. Implement other methods according to your design.\n",
    "\n",
    "- Make a *plot_preferences* method for the class to illustrate the preferences represented the objects of the class, and illustrate how the parameters of the utility function affect the plot. Give economic interpretation for the parameters. (To make possible the figure with one of the indifference curves touching the budget constraint, make sure that this procedure can plot the indifference curves for a particular value of utility, or array of such values.)\n",
    "\n",
    "- Make a *plot_budget* method for the class to illustrate the budget of the consumer. (Again, to make possible later figures, make sure that two plotting methods can create plots on the same axes).\n",
    "\n",
    "- Finally, write a *solve* method which would numerically solve the consumer choice problem and return the optimal bundle of goods. Use an unconstrained solver and provide it with an analytical gradient.  The constrained consumer choice problem can be reformulated as unconstrained with the assumption of full budget utilization by simple substitution.\n",
    "\n",
    "### 3. By drawing several diagrams that illustrate optimal consumer choice using your class, investigate and describe how parameters of the preferences affect the optimal choice.\n",
    "- Try finding and considering a few characteristic extremal cases that would give an idea of the boundaries for the set of solutions.\n",
    "- Give economic intuition for the observed differences.\n",
    "\n",
    "### 4. Code up a function which takes a model object as input argument, and creates a series of pictures to illustrate how optimal consumer choice changes with changing prices to give rise to demand curve.\n",
    "- Implement a way to change the number of the produced picture (and detail of the illustration) with some input argument, and let the function output the produced series of optimal choices for different prices.\n",
    "- Produce an example of running the developed function, and classify the two goods into normal and inferior.\n",
    "- Find values for the preference parameters that correspond to inferior good, and make the corresponding illustration.\n",
    "\n",
    "### 5. Repeat the same exercise for changing budget to illustrate the income effect in consumer choice.\n",
    "- Decide and argue to either modify the already written function or creating a new one.\n",
    "- Produce an illustration of the Giffen good.\n",
    "\n",
    "### 6. Run a Monte Carlo exercises to approximate the subsets of parameter space that correspond to the inferior and Giffen goods.\n",
    "- First, impose the restriction to parameters $a_2 = 1-a_1$, which makes parameter $a_2$ disappear. Then, with parameters given by $(a_1,s)$, we can plot parameters on a plane.\n",
    "- Choose a range for parameters, and proceed with the simulation using uniform distribution.\n",
    "- Present the results graphically with points on the $(a_1,s)$ plane colored differently for the four combination of good classes (normal-inferior and nonormal-Giffen).\n",
    "- Discuss the observed patterns"
   ]
  },
  {
   "cell_type": "markdown",
   "metadata": {},
   "source": [
    "# Question 2"
   ]
  },
  {
   "cell_type": "code",
   "execution_count": 63,
   "metadata": {},
   "outputs": [],
   "source": [
    "# Question 2: Defining the class to represent the model\n",
    "import math\n",
    "import numpy as np\n",
    "import scipy.optimize as optimize\n",
    "import matplotlib.pyplot as plt\n",
    "from ipywidgets import interact\n",
    "\n",
    "class consumer_choice():\n",
    "    \n",
    "    '''Class of demand for goods with CES utility function'''\n",
    "    \n",
    "    def __init__(self, q1 =1.0, label = 'Consumer choice',\n",
    "                                        s = 1.5,  # elasticity of substitution                                        \n",
    "                                        a1 = 0.3,  # share parameter for good 1\n",
    "                                        a2 = 0.7,  # share parameter for good 2\n",
    "                                        I = 100,     # Income or budget\n",
    "                                        U_bar = 100,  # Utility\n",
    "                                        p1 = 2,      # Price for good 1\n",
    "                                        p2 = 3) :     # Price for good 2\n",
    "        self.q1, self.s, self.a1, self.a2, self.I, self.U_bar, self.p1, self.p2 = q1, s, a1, a2, I, U_bar, p1, p2\n",
    "    def __repr__(self): \n",
    "        '''Representation of the model object'''\n",
    "        return 'Consumer choice represented by CES utility function with share parameters  %r, %1.2f' % (self.a1,self.a2)\n",
    "            \n",
    "\n",
    "    def utility(self, q1):\n",
    "        self.q1 = q1\n",
    "        b = (self.s-1)/self.s\n",
    "        U = ((self.a1*self.q1**b) + self.a2*((self.I-self.q1*self.p1)/self.p2)**b)**(1/b)\n",
    "        return U\n",
    "    \n",
    "    def plot_budget(self, I, p1, p2):\n",
    "        '''Method to illustrate budget constraint of the consumer'''\n",
    "        self.I, self.p1, self.p2 = I, p1, p2\n",
    "        q1 = np.linspace(0, I/p1, 10)\n",
    "        q2 = I/p2- (p1/p2)*q1\n",
    "        fig, ax = plt.subplots()  # Create axes and figure window\n",
    "        plt.plot(q1, q2, 'b-', q1, q1, '-.')\n",
    "        plt.ylabel('q2')\n",
    "        plt.xlabel('q1')\n",
    "        plt.title('Budget line')\n",
    "        return plt.show()\n",
    "      \n",
    "    def plot_preferences(self, U_bar, s, a1, a2):\n",
    "        self.U_bar, self.s, self.a1, self.a2 = U_bar, s, a1, a2\n",
    "        '''Method to illustrate indifference curve of the consumer'''\n",
    "        q1 = np.linspace(0, self.I/self.p1, 100)\n",
    "        q2 = ((U_bar**((s-1)/s) - a1*q1**((s-1)/s))/a2)**(s/(s-1))\n",
    "        fig, ax = plt.subplots()  # Create axes and figure window\n",
    "        plt.plot(q1, q2, 'r-', q1, q1,'-.')\n",
    "        plt.ylabel('q2')\n",
    "        plt.xlabel('q1')\n",
    "        plt.title('Indifference curve ')\n",
    "        return plt.show()\n",
    "    \n",
    "    def FOC(self,q1=1):\n",
    "        '''Method to solve FOC'''\n",
    "        self.q1 = q1\n",
    "        b = (self.s-1)/self.s # just short hand for (s-1)/s\n",
    "        A = ((self.a1*self.q1**b) + self.a2*((self.I-self.q1*self.p1)/self.p2)**b)\n",
    "        FOC = A**((1/b)-1)*(self.a1*self.q1**(b-1)-self.a2*((self.I-self.q1*self.p1)/self.p2)**(b-1)*(self.p1/self.p2))\n",
    "        return FOC\n",
    "    \n",
    "    def plot_solution(self, I, p1, p2, s, a1, a2):\n",
    "        '''Method to solve for the root of FOC and plot the solution'''\n",
    "        self.I, self.p1, self.p2, self.s, self.a1, self.a2 = I, p1, p2, s, a1, a2\n",
    "        q1_opt = optimize.root(self.FOC, 1) # 1 is the initial value, whether it converges to the solution is sensitive to the initial value\n",
    "        q2_opt = (I-q1_opt.x*p1)/p2\n",
    "        U_opt = self.utility(q1 = q1_opt.x) # what this .x doing??? without .x it is saying that optimization result and * not allowed\n",
    "        NGRID = 100\n",
    "        q1 = np.linspace(0, I/p2, NGRID)\n",
    "        IC = ((U_opt**((s-1)/s) - a1*q1**((s-1)/s))/a2)**(s/(s-1))\n",
    "        B = I/p2- (p1/p2)*q1\n",
    "        plt.plot(q1, IC, q1, B)\n",
    "        plt.plot(q1_opt.x, q2_opt, 'ob')\n",
    "        plt.ylabel('q2')\n",
    "        plt.xlabel('q1')\n",
    "        plt.title('Consumer utility maximization problem solution')\n",
    "        return plt.show()\n",
    " \n"
   ]
  },
  {
   "cell_type": "code",
   "execution_count": 64,
   "metadata": {},
   "outputs": [
    {
     "data": {
      "image/png": "[encoded data removed]",
      "text/plain": [
       "<Figure size 432x288 with 1 Axes>"
      ]
     },
     "metadata": {},
     "output_type": "display_data"
    },
    {
     "data": {
      "application/vnd.jupyter.widget-view+json": {
       "model_id": "758f64dc72a1445087fd49d9b85c2212",
       "version_major": 2,
       "version_minor": 0
      },
      "text/plain": [
       "interactive(children=(FloatSlider(value=500.005, description='U_bar', max=1000.0, min=0.01), FloatSlider(value…"
      ]
     },
     "metadata": {},
     "output_type": "display_data"
    }
   ],
   "source": [
    "m=consumer_choice()\n",
    "m.plot_preferences(U_bar=100, s=1.5, a1=0.5, a2=0.5)\n",
    "interact(m.plot_preferences, \n",
    "              U_bar=(0.01, 1000),\n",
    "              a1=(0.1, 10),\n",
    "              a2=(0.1, 10),\n",
    "              #self.p1=(1,100), \n",
    "              #self.p2=(1.0,1.5), \n",
    "              s=(0.2,4.2), \n",
    "              #I=(0.1, 1000),\n",
    "             )\n",
    "plt.show()"
   ]
  },
  {
   "cell_type": "code",
   "execution_count": 65,
   "metadata": {},
   "outputs": [
    {
     "data": {
      "image/png": "[encoded data removed]",
      "text/plain": [
       "<Figure size 432x288 with 1 Axes>"
      ]
     },
     "metadata": {},
     "output_type": "display_data"
    },
    {
     "data": {
      "application/vnd.jupyter.widget-view+json": {
       "model_id": "50e65f6ea088476f8a907e2b70d6f42b",
       "version_major": 2,
       "version_minor": 0
      },
      "text/plain": [
       "interactive(children=(FloatSlider(value=500.05, description='I', max=1000.0, min=0.1), IntSlider(value=50, des…"
      ]
     },
     "metadata": {},
     "output_type": "display_data"
    }
   ],
   "source": [
    "m.plot_budget(I=100, p1=2, p2=3)\n",
    "interact(m.plot_budget, \n",
    "              p1=(1,100), \n",
    "              p2=(1.0,100), \n",
    "              s=(0.2,4.2), \n",
    "              I=(0.1, 1000),\n",
    "             )\n",
    "plt.show()"
   ]
  },
  {
   "cell_type": "code",
   "execution_count": 66,
   "metadata": {
    "scrolled": true
   },
   "outputs": [
    {
     "data": {
      "image/png": "[encoded data removed]",
      "text/plain": [
       "<Figure size 432x288 with 1 Axes>"
      ]
     },
     "metadata": {},
     "output_type": "display_data"
    }
   ],
   "source": [
    "m.plot_solution(s = 1.5, a1 = 0.3, a2 = 0.7, I = 100, p1 = 2, p2 = 3)\n"
   ]
  },
  {
   "cell_type": "markdown",
   "metadata": {},
   "source": [
    "# Question 3"
   ]
  },
  {
   "cell_type": "code",
   "execution_count": null,
   "metadata": {},
   "outputs": [],
   "source": []
  },
  {
   "cell_type": "markdown",
   "metadata": {},
   "source": [
    "# Question 4"
   ]
  },
  {
   "cell_type": "code",
   "execution_count": null,
   "metadata": {},
   "outputs": [],
   "source": []
  },
  {
   "cell_type": "markdown",
   "metadata": {},
   "source": [
    "# Question 5"
   ]
  },
  {
   "cell_type": "code",
   "execution_count": null,
   "metadata": {},
   "outputs": [],
   "source": []
  },
  {
   "cell_type": "markdown",
   "metadata": {},
   "source": [
    "# Question 6"
   ]
  },
  {
   "cell_type": "code",
   "execution_count": null,
   "metadata": {},
   "outputs": [],
   "source": []
  }
 ],
 "metadata": {
  "kernelspec": {
   "display_name": "Python 3",
   "language": "python",
   "name": "python3"
  },
  "language_info": {
   "codemirror_mode": {
    "name": "ipython",
    "version": 3
   },
   "file_extension": ".py",
   "mimetype": "text/x-python",
   "name": "python",
   "nbconvert_exporter": "python",
   "pygments_lexer": "ipython3",
   "version": "3.6.5"
  }
 },
 "nbformat": 4,
 "nbformat_minor": 2
}
